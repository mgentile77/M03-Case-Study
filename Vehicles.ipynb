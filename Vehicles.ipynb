{
 "cells": [
  {
   "cell_type": "markdown",
   "metadata": {},
   "source": [
    "Michael Gentile\n",
    "11/12/2023\n",
    "F.Liu"
   ]
  },
  {
   "cell_type": "markdown",
   "metadata": {},
   "source": [
    "Case Study: Setting up vehicle storage classes "
   ]
  },
  {
   "cell_type": "code",
   "execution_count": 9,
   "metadata": {},
   "outputs": [
    {
     "name": "stdout",
     "output_type": "stream",
     "text": [
      "\n",
      "Vehicle Type: Car\n",
      "Year: 2017\n",
      "Make: Chevy\n",
      "Model: Traverse\n",
      "Number of Doors: 4\n",
      "Roof Type: Hard top\n",
      "\n"
     ]
    }
   ],
   "source": [
    "class Vehicles:\n",
    "    def __init__(self, vehicleType):\n",
    "        self.vehicleType = vehicleType.capitalize()\n",
    "    \n",
    "    \n",
    "        \n",
    "        \n",
    "class Automobile(Vehicles):\n",
    "    def __init__(self,vehicleType, year, make, model, doors, roofType):\n",
    "        super().__init__(vehicleType)\n",
    "        self.year = year\n",
    "        self.make = make.capitalize()\n",
    "        self.model = model.capitalize()\n",
    "        self.doors = doors\n",
    "        self.roofType = roofType.capitalize()\n",
    "        \n",
    "    def __str__(self) -> str:\n",
    "        return f\"\"\"\\nVehicle Type: {self.vehicleType}\\nYear: {self.year}\\nMake: {self.make}\n",
    "Model: {self.model}\\nNumber of Doors: {self.doors}\\nRoof Type: {self.roofType}\\n\"\"\"\n",
    "        \n",
    "vehicleType = input('Would you like to add a car to this project?(Y, else anything to close): ').upper()\n",
    "if vehicleType != 'Y':\n",
    "    quit()\n",
    "year = input('Please enter the vehicles year(XXXX): ')\n",
    "make = input('Please enter the vehicles make: ')\n",
    "model = input('Please enter the vehicles model: ')\n",
    "doors = input('Please enter the number of doors: ')\n",
    "roofType = input('Please enter the roof type: ')\n",
    "\n",
    "newCar = Automobile('car',year,make,model,doors,roofType)\n",
    "print (newCar)\n",
    "\n"
   ]
  }
 ],
 "metadata": {
  "kernelspec": {
   "display_name": "Python 3",
   "language": "python",
   "name": "python3"
  },
  "language_info": {
   "codemirror_mode": {
    "name": "ipython",
    "version": 3
   },
   "file_extension": ".py",
   "mimetype": "text/x-python",
   "name": "python",
   "nbconvert_exporter": "python",
   "pygments_lexer": "ipython3",
   "version": "3.11.2"
  }
 },
 "nbformat": 4,
 "nbformat_minor": 2
}
